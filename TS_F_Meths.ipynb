{
 "cells": [
  {
   "cell_type": "markdown",
   "metadata": {},
   "source": [
    "# Time series Forecasting - Basics - Stat Models"
   ]
  },
  {
   "cell_type": "markdown",
   "metadata": {},
   "source": [
    "#AR"
   ]
  },
  {
   "cell_type": "code",
   "execution_count": 1,
   "metadata": {},
   "outputs": [
    {
     "name": "stdout",
     "output_type": "stream",
     "text": [
      "[101.00050243]\n"
     ]
    }
   ],
   "source": [
    "# AR example\n",
    "from statsmodels.tsa.ar_model import AutoReg\n",
    "from random import random\n",
    "# contrived dataset\n",
    "data = [x + random() for x in range(1, 100)]\n",
    "# fit model\n",
    "model = AutoReg(data, lags=1)\n",
    "model_fit = model.fit()\n",
    "# make prediction\n",
    "yhat = model_fit.predict(len(data), len(data))\n",
    "print(yhat)"
   ]
  },
  {
   "cell_type": "code",
   "execution_count": 2,
   "metadata": {},
   "outputs": [
    {
     "name": "stdout",
     "output_type": "stream",
     "text": [
      "[1.7754076613227414, 2.1764734098414076, 3.4340557300276924, 4.319683581700808, 5.1454232631923915, 6.201913634040187, 7.2338451438324505, 8.189717530288204, 9.00055981052646, 10.15417573205715, 11.023024555596662, 12.195026151581715, 13.359747047233903, 14.165127282305944, 15.663323827624646, 16.207414644791537, 17.889225600200035, 18.942616388485177, 19.08406372274806, 20.274185803801487, 21.609081560724665, 22.006490946801055, 23.235811755370722, 24.988675523841547, 25.711427234021727, 26.5274420045735, 27.002603168407944, 28.962280552653592, 29.521182332808593, 30.67228692321834, 31.601220123788664, 32.20903994121065, 33.75951744133265, 34.918781535865094, 35.74847053241385, 36.83551953944014, 37.01896946845042, 38.22369158881497, 39.92671670107413, 40.101573553136, 41.856056063034245, 42.83149165764604, 43.366252082733844, 44.942706378669364, 45.81154682700072, 46.14815714029454, 47.40199271541979, 48.80159308031607, 49.714925855024134, 50.6990618245023, 51.76514973969548, 52.48867517032434, 53.84452265144909, 54.1726939259024, 55.33324673255379, 56.251228733586295, 57.73161570092794, 58.31718343514524, 59.50552035943769, 60.38649124742979, 61.192517208076644, 62.38565885152489, 63.23119580725496, 64.79093079866455, 65.00893155258503, 66.68109478351916, 67.81310263569851, 68.02186045243296, 69.523617100194, 70.80734666112406, 71.94867729916662, 72.00256365996859, 73.54747313965169, 74.89510885096715, 75.4000103281007, 76.11455471432119, 77.37109013346505, 78.77170987996602, 79.28699819307454, 80.24628936706713, 81.88668047058387, 82.40033989617886, 83.64491671801356, 84.26572151285463, 85.25724585638137, 86.549169042947, 87.43975788052009, 88.86081472203443, 89.54490119991658, 90.55668611711, 91.94895111803531, 92.25362611878059, 93.83204892889036, 94.04597667273711, 95.052287450611, 96.3254786955288, 97.76758025297609, 98.66124838799678, 99.43957713538278]\n"
     ]
    }
   ],
   "source": [
    "print (data)"
   ]
  },
  {
   "cell_type": "markdown",
   "metadata": {},
   "source": [
    "#MA"
   ]
  },
  {
   "cell_type": "code",
   "execution_count": 5,
   "metadata": {},
   "outputs": [
    {
     "name": "stdout",
     "output_type": "stream",
     "text": [
      "[76.64783936]\n"
     ]
    },
    {
     "name": "stderr",
     "output_type": "stream",
     "text": [
      "c:\\Users\\CB.EN.U4CSE20614\\AppData\\Local\\Programs\\Python\\Python311\\Lib\\site-packages\\statsmodels\\tsa\\statespace\\sarimax.py:978: UserWarning: Non-invertible starting MA parameters found. Using zeros as starting parameters.\n",
      "  warn('Non-invertible starting MA parameters found.'\n"
     ]
    }
   ],
   "source": [
    "# MA example\n",
    "from statsmodels.tsa.arima.model import ARIMA\n",
    "from random import random\n",
    "# contrived dataset\n",
    "data = [x + random() for x in range(1, 100)]\n",
    "\n",
    "# fit model\n",
    "model = ARIMA(data, order=(0, 0, 1))\n",
    "model_fit = model.fit()\n",
    "# make prediction\n",
    "yhat = model_fit.predict(len(data), len(data))\n",
    "print(yhat)"
   ]
  },
  {
   "cell_type": "markdown",
   "metadata": {},
   "source": [
    "#ARMA"
   ]
  },
  {
   "cell_type": "code",
   "execution_count": 6,
   "metadata": {},
   "outputs": [
    {
     "name": "stdout",
     "output_type": "stream",
     "text": [
      "[0.50470829]\n"
     ]
    },
    {
     "name": "stderr",
     "output_type": "stream",
     "text": [
      "c:\\Users\\CB.EN.U4CSE20614\\AppData\\Local\\Programs\\Python\\Python311\\Lib\\site-packages\\statsmodels\\tsa\\statespace\\sarimax.py:966: UserWarning: Non-stationary starting autoregressive parameters found. Using zeros as starting parameters.\n",
      "  warn('Non-stationary starting autoregressive parameters'\n",
      "c:\\Users\\CB.EN.U4CSE20614\\AppData\\Local\\Programs\\Python\\Python311\\Lib\\site-packages\\statsmodels\\base\\model.py:607: ConvergenceWarning: Maximum Likelihood optimization failed to converge. Check mle_retvals\n",
      "  warnings.warn(\"Maximum Likelihood optimization failed to \"\n"
     ]
    }
   ],
   "source": [
    "# ARMA example\n",
    "from statsmodels.tsa.arima.model import ARIMA\n",
    "from random import random\n",
    "# contrived dataset\n",
    "data = [random() for x in range(1, 100)]\n",
    "# fit model\n",
    "model = ARIMA(data, order=(2, 0, 1))\n",
    "model_fit = model.fit()\n",
    "# make prediction\n",
    "yhat = model_fit.predict(len(data), len(data))\n",
    "print(yhat)"
   ]
  },
  {
   "cell_type": "code",
   "execution_count": null,
   "metadata": {},
   "outputs": [],
   "source": []
  }
 ],
 "metadata": {
  "kernelspec": {
   "display_name": "Python 3",
   "language": "python",
   "name": "python3"
  },
  "language_info": {
   "codemirror_mode": {
    "name": "ipython",
    "version": 3
   },
   "file_extension": ".py",
   "mimetype": "text/x-python",
   "name": "python",
   "nbconvert_exporter": "python",
   "pygments_lexer": "ipython3",
   "version": "3.11.8"
  }
 },
 "nbformat": 4,
 "nbformat_minor": 2
}
